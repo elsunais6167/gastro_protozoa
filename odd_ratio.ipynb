{
 "cells": [
  {
   "cell_type": "code",
   "execution_count": 1,
   "metadata": {},
   "outputs": [],
   "source": [
    "import numpy as np\n",
    "import matplotlib.pyplot as plt\n",
    "from scipy.stats import fisher_exact, norm"
   ]
  },
  {
   "cell_type": "code",
   "execution_count": 2,
   "metadata": {},
   "outputs": [],
   "source": [
    "def calc_odds_ratio(a, b, c, d):\n",
    "    odds_ratio = (a * d) / (b * c)\n",
    "    p_value = fisher_exact([[a, b], [c, d]])[1]\n",
    "    se = np.sqrt(1/a + 1/b + 1/c + 1/d)\n",
    "    z = np.log(odds_ratio) / se\n",
    "    confint = np.exp(norm.ppf(0.025) * se), np.exp(norm.ppf(0.975) * se)\n",
    "    return odds_ratio, p_value, confint"
   ]
  },
  {
   "cell_type": "code",
   "execution_count": 3,
   "metadata": {},
   "outputs": [
    {
     "name": "stdout",
     "output_type": "stream",
     "text": [
      "The Fisher's Exact Association for age =\n",
      "Odds ratio:  1.257\n",
      "P-value:  4.462e-01\n",
      "confint_lower 0.604\n",
      "confint_upper 1.656\n"
     ]
    }
   ],
   "source": [
    "#Age\n",
    "odds_ratio, p_value, confint = calc_odds_ratio(164, 200, 30, 46)\n",
    "\n",
    "print(\"The Fisher's Exact Association for age =\")\n",
    "print(\"Odds ratio: \", \"{:.3f}\".format(odds_ratio))\n",
    "print(\"P-value: \", \"{:.3e}\".format(p_value))\n",
    "print(\"confint_lower\", \"{:.3f}\".format(confint[0]))\n",
    "print(\"confint_upper\", \"{:.3f}\".format(confint[1]))"
   ]
  },
  {
   "attachments": {},
   "cell_type": "markdown",
   "metadata": {},
   "source": [
    "not significant"
   ]
  },
  {
   "cell_type": "code",
   "execution_count": 4,
   "metadata": {},
   "outputs": [
    {
     "name": "stdout",
     "output_type": "stream",
     "text": [
      "The Fisher's Exact Association for Sex =\n",
      "Odds ratio:  1.005\n",
      "P-value:  1.000e+00\n",
      "confint_lower 0.638\n",
      "confint_upper 1.567\n"
     ]
    }
   ],
   "source": [
    "#Sex\n",
    "odds_ratio, p_value, confint = calc_odds_ratio(150, 190, 44, 56)\n",
    "\n",
    "print(\"The Fisher's Exact Association for Sex =\")\n",
    "print(\"Odds ratio: \", \"{:.3f}\".format(odds_ratio))\n",
    "print(\"P-value: \", \"{:.3e}\".format(p_value))\n",
    "print(\"confint_lower\", \"{:.3f}\".format(confint[0]))\n",
    "print(\"confint_upper\", \"{:.3f}\".format(confint[1]))"
   ]
  },
  {
   "attachments": {},
   "cell_type": "markdown",
   "metadata": {},
   "source": [
    "Not Significant"
   ]
  },
  {
   "cell_type": "code",
   "execution_count": 5,
   "metadata": {},
   "outputs": [
    {
     "name": "stdout",
     "output_type": "stream",
     "text": [
      "The Fisher's Exact Association for History of taking drugs =\n",
      "Odds ratio:  1.487\n",
      "P-value:  1.920e-01\n",
      "confint_lower 0.567\n",
      "confint_upper 1.762\n"
     ]
    }
   ],
   "source": [
    "#History of taking drugs\n",
    "odds_ratio, p_value, confint = calc_odds_ratio(29, 26, 165, 220)\n",
    "\n",
    "print(\"The Fisher's Exact Association for History of taking drugs =\")\n",
    "print(\"Odds ratio: \", \"{:.3f}\".format(odds_ratio))\n",
    "print(\"P-value: \", \"{:.3e}\".format(p_value))\n",
    "print(\"confint_lower\", \"{:.3f}\".format(confint[0]))\n",
    "print(\"confint_upper\", \"{:.3f}\".format(confint[1]))"
   ]
  },
  {
   "attachments": {},
   "cell_type": "markdown",
   "metadata": {},
   "source": [
    "Not significant"
   ]
  },
  {
   "cell_type": "code",
   "execution_count": 6,
   "metadata": {},
   "outputs": [
    {
     "name": "stdout",
     "output_type": "stream",
     "text": [
      "The Fisher's Exact Association for Boiling drinking water =\n",
      "Odds ratio:  0.230\n",
      "P-value:  8.657e-09\n",
      "confint_lower 0.600\n",
      "confint_upper 1.666\n"
     ]
    }
   ],
   "source": [
    "#Boiling drinking water\n",
    "odds_ratio, p_value, confint = calc_odds_ratio(28, 53, 250, 109)\n",
    "\n",
    "print(\"The Fisher's Exact Association for Boiling drinking water =\")\n",
    "print(\"Odds ratio: \", \"{:.3f}\".format(odds_ratio))\n",
    "print(\"P-value: \", \"{:.3e}\".format(p_value))\n",
    "print(\"confint_lower\", \"{:.3f}\".format(confint[0]))\n",
    "print(\"confint_upper\", \"{:.3f}\".format(confint[1]))"
   ]
  },
  {
   "cell_type": "code",
   "execution_count": 7,
   "metadata": {},
   "outputs": [
    {
     "name": "stdout",
     "output_type": "stream",
     "text": [
      "The Fisher's Exact Association for Washing hand after visiting toilet =\n",
      "Odds ratio:  0.733\n",
      "P-value:  1.199e-01\n",
      "confint_lower 0.683\n",
      "confint_upper 1.465\n"
     ]
    }
   ],
   "source": [
    "#Washing hand after visiting toilet\n",
    "odds_ratio, p_value, confint = calc_odds_ratio(90, 90, 150, 110)\n",
    "\n",
    "print(\"The Fisher's Exact Association for Washing hand after visiting toilet =\")\n",
    "print(\"Odds ratio: \", \"{:.3f}\".format(odds_ratio))\n",
    "print(\"P-value: \", \"{:.3e}\".format(p_value))\n",
    "print(\"confint_lower\", \"{:.3f}\".format(confint[0]))\n",
    "print(\"confint_upper\", \"{:.3f}\".format(confint[1]))"
   ]
  },
  {
   "cell_type": "code",
   "execution_count": 8,
   "metadata": {},
   "outputs": [
    {
     "name": "stdout",
     "output_type": "stream",
     "text": [
      "The Fisher's Exact Association for Washing hand with soap =\n",
      "Odds ratio:  0.339\n",
      "P-value:  5.446e-07\n",
      "confint_lower 0.651\n",
      "confint_upper 1.536\n"
     ]
    }
   ],
   "source": [
    "#Washing hand with soap\n",
    "odds_ratio, p_value, confint = calc_odds_ratio(40, 110, 150, 140)\n",
    "\n",
    "print(\"The Fisher's Exact Association for Washing hand with soap =\")\n",
    "print(\"Odds ratio: \", \"{:.3f}\".format(odds_ratio))\n",
    "print(\"P-value: \", \"{:.3e}\".format(p_value))\n",
    "print(\"confint_lower\", \"{:.3f}\".format(confint[0]))\n",
    "print(\"confint_upper\", \"{:.3f}\".format(confint[1]))"
   ]
  },
  {
   "cell_type": "code",
   "execution_count": 9,
   "metadata": {},
   "outputs": [
    {
     "name": "stdout",
     "output_type": "stream",
     "text": [
      "The Fisher's Exact Association for Involving in Souce of Fruits/Vegetables =\n",
      "Odds ratio:  0.804\n",
      "P-value:  3.428e-01\n",
      "confint_lower 0.659\n",
      "confint_upper 1.517\n"
     ]
    }
   ],
   "source": [
    "#Souce of Fruits/Vegetables\n",
    "odds_ratio, p_value, confint = calc_odds_ratio(52, 77, 142, 169)\n",
    "\n",
    "print(\"The Fisher's Exact Association for Involving in Souce of Fruits/Vegetables =\")\n",
    "print(\"Odds ratio: \", \"{:.3f}\".format(odds_ratio))\n",
    "print(\"P-value: \", \"{:.3e}\".format(p_value))\n",
    "print(\"confint_lower\", \"{:.3f}\".format(confint[0]))\n",
    "print(\"confint_upper\", \"{:.3f}\".format(confint[1]))"
   ]
  },
  {
   "cell_type": "code",
   "execution_count": 10,
   "metadata": {},
   "outputs": [
    {
     "name": "stdout",
     "output_type": "stream",
     "text": [
      "The Fisher's Exact Association for Washing fruit before eating =\n",
      "Odds ratio:  0.880\n",
      "P-value:  5.428e-01\n",
      "confint_lower 0.670\n",
      "confint_upper 1.493\n"
     ]
    }
   ],
   "source": [
    "#Washing fruit before eating\n",
    "odds_ratio, p_value, confint = calc_odds_ratio(60, 125, 90, 165)\n",
    "\n",
    "print(\"The Fisher's Exact Association for Washing fruit before eating =\")\n",
    "print(\"Odds ratio: \", \"{:.3f}\".format(odds_ratio))\n",
    "print(\"P-value: \", \"{:.3e}\".format(p_value))\n",
    "print(\"confint_lower\", \"{:.3f}\".format(confint[0]))\n",
    "print(\"confint_upper\", \"{:.3f}\".format(confint[1]))"
   ]
  },
  {
   "cell_type": "code",
   "execution_count": 11,
   "metadata": {},
   "outputs": [
    {
     "name": "stdout",
     "output_type": "stream",
     "text": [
      "The Fisher's Exact Association for Eating food sold in open place =\n",
      "Odds ratio:  2.274\n",
      "P-value:  3.506e-05\n",
      "confint_lower 0.681\n",
      "confint_upper 1.469\n"
     ]
    }
   ],
   "source": [
    "#Eating food sold in open place\n",
    "odds_ratio, p_value, confint = calc_odds_ratio(120, 76, 100, 144)\n",
    "\n",
    "print(\"The Fisher's Exact Association for Eating food sold in open place =\")\n",
    "print(\"Odds ratio: \", \"{:.3f}\".format(odds_ratio))\n",
    "print(\"P-value: \", \"{:.3e}\".format(p_value))\n",
    "print(\"confint_lower\", \"{:.3f}\".format(confint[0]))\n",
    "print(\"confint_upper\", \"{:.3f}\".format(confint[1]))"
   ]
  },
  {
   "cell_type": "code",
   "execution_count": 12,
   "metadata": {},
   "outputs": [
    {
     "name": "stdout",
     "output_type": "stream",
     "text": [
      "The Fisher's Exact Association for Wearing shoes frequently =\n",
      "Odds ratio:  0.096\n",
      "P-value:  3.008e-25\n",
      "confint_lower 0.612\n",
      "confint_upper 1.634\n"
     ]
    }
   ],
   "source": [
    "#Wearing shoes frequently\n",
    "odds_ratio, p_value, confint = calc_odds_ratio(90, 204, 120, 26)\n",
    "\n",
    "print(\"The Fisher's Exact Association for Wearing shoes frequently =\")\n",
    "print(\"Odds ratio: \", \"{:.3f}\".format(odds_ratio))\n",
    "print(\"P-value: \", \"{:.3e}\".format(p_value))\n",
    "print(\"confint_lower\", \"{:.3f}\".format(confint[0]))\n",
    "print(\"confint_upper\", \"{:.3f}\".format(confint[1]))"
   ]
  },
  {
   "cell_type": "code",
   "execution_count": 13,
   "metadata": {},
   "outputs": [
    {
     "name": "stdout",
     "output_type": "stream",
     "text": [
      "The Fisher's Exact Association for Swimming in stream/river/pool =\n",
      "Odds ratio:  0.841\n",
      "P-value:  4.522e-01\n",
      "confint_lower 0.654\n",
      "confint_upper 1.529\n"
     ]
    }
   ],
   "source": [
    "#Swimming in stream/river/pool\n",
    "odds_ratio, p_value, confint = calc_odds_ratio(50, 70, 147, 173)\n",
    "\n",
    "print(\"The Fisher's Exact Association for Swimming in stream/river/pool =\")\n",
    "print(\"Odds ratio: \", \"{:.3f}\".format(odds_ratio))\n",
    "print(\"P-value: \", \"{:.3e}\".format(p_value))\n",
    "print(\"confint_lower\", \"{:.3f}\".format(confint[0]))\n",
    "print(\"confint_upper\", \"{:.3f}\".format(confint[1]))"
   ]
  },
  {
   "cell_type": "code",
   "execution_count": 14,
   "metadata": {},
   "outputs": [
    {
     "name": "stdout",
     "output_type": "stream",
     "text": [
      "The Fisher's Exact Association for Improved water source =\n",
      "Odds ratio:  0.030\n",
      "P-value:  5.376e-49\n",
      "confint_lower 0.577\n",
      "confint_upper 1.732\n"
     ]
    }
   ],
   "source": [
    "#Improved water source\n",
    "odds_ratio, p_value, confint = calc_odds_ratio(24, 126, 250, 40)\n",
    "\n",
    "print(\"The Fisher's Exact Association for Improved water source =\")\n",
    "print(\"Odds ratio: \", \"{:.3f}\".format(odds_ratio))\n",
    "print(\"P-value: \", \"{:.3e}\".format(p_value))\n",
    "print(\"confint_lower\", \"{:.3f}\".format(confint[0]))\n",
    "print(\"confint_upper\", \"{:.3f}\".format(confint[1]))"
   ]
  },
  {
   "cell_type": "code",
   "execution_count": 15,
   "metadata": {},
   "outputs": [
    {
     "name": "stdout",
     "output_type": "stream",
     "text": [
      "The Fisher's Exact Association for Latarines =\n",
      "Odds ratio:  19.333\n",
      "P-value:  1.272e-32\n",
      "confint_lower 0.586\n",
      "confint_upper 1.706\n"
     ]
    }
   ],
   "source": [
    "#Latarines\n",
    "odds_ratio, p_value, confint = calc_odds_ratio(290, 30, 40, 80)\n",
    "\n",
    "print(\"The Fisher's Exact Association for Latarines =\")\n",
    "print(\"Odds ratio: \", \"{:.3f}\".format(odds_ratio))\n",
    "print(\"P-value: \", \"{:.3e}\".format(p_value))\n",
    "print(\"confint_lower\", \"{:.3f}\".format(confint[0]))\n",
    "print(\"confint_upper\", \"{:.3f}\".format(confint[1]))"
   ]
  },
  {
   "cell_type": "code",
   "execution_count": 16,
   "metadata": {},
   "outputs": [
    {
     "name": "stdout",
     "output_type": "stream",
     "text": [
      "The Fisher's Exact Association for Flies/Cockroaches in sanitary facilities =\n",
      "Odds ratio:  8.533\n",
      "P-value:  5.356e-14\n",
      "confint_lower 0.572\n",
      "confint_upper 1.750\n"
     ]
    }
   ],
   "source": [
    "#Flies/Cockroaches in sanitary facilities\n",
    "odds_ratio, p_value, confint = calc_odds_ratio(320, 50, 30, 40)\n",
    "\n",
    "print(\"The Fisher's Exact Association for Flies/Cockroaches in sanitary facilities =\")\n",
    "print(\"Odds ratio: \", \"{:.3f}\".format(odds_ratio))\n",
    "print(\"P-value: \", \"{:.3e}\".format(p_value))\n",
    "print(\"confint_lower\", \"{:.3f}\".format(confint[0]))\n",
    "print(\"confint_upper\", \"{:.3f}\".format(confint[1]))"
   ]
  },
  {
   "cell_type": "code",
   "execution_count": 17,
   "metadata": {},
   "outputs": [
    {
     "name": "stdout",
     "output_type": "stream",
     "text": [
      "The Fisher's Exact Association for Involving in farming activitiess =\n",
      "Odds ratio:  0.900\n",
      "P-value:  6.661e-01\n",
      "confint_lower 0.656\n",
      "confint_upper 1.523\n"
     ]
    }
   ],
   "source": [
    "#Involving in farming activities\n",
    "odds_ratio, p_value, confint = calc_odds_ratio(100, 200, 50, 90)\n",
    "\n",
    "print(\"The Fisher's Exact Association for Involving in farming activitiess =\")\n",
    "print(\"Odds ratio: \", \"{:.3f}\".format(odds_ratio))\n",
    "print(\"P-value: \", \"{:.3e}\".format(p_value))\n",
    "print(\"confint_lower\", \"{:.3f}\".format(confint[0]))\n",
    "print(\"confint_upper\", \"{:.3f}\".format(confint[1]))"
   ]
  },
  {
   "cell_type": "code",
   "execution_count": 18,
   "metadata": {},
   "outputs": [
    {
     "data": {
      "text/plain": [
       "<matplotlib.legend.Legend at 0x7f688331b050>"
      ]
     },
     "execution_count": 18,
     "metadata": {},
     "output_type": "execute_result"
    },
    {
     "data": {
      "image/png": "[encoded data removed]",
      "text/plain": [
       "<Figure size 640x480 with 1 Axes>"
      ]
     },
     "metadata": {},
     "output_type": "display_data"
    }
   ],
   "source": [
    "#Barchat Plot\n",
    "protozoan = {'E. histolytica': 30, 'G. lamblia': 18}\n",
    "geohelminths = {'A. lumbricoides': 68, 'T. trichura': 15, 'Hookworm': 34}\n",
    "\n",
    "\n",
    "fig, ax = plt.subplots()\n",
    "bar_width = 0.35\n",
    "opacity = 0.8\n",
    "\n",
    "\n",
    "protozoan_bars = ax.bar(protozoan.keys(), protozoan.values(), bar_width, alpha=opacity, color='b', label='Protozoan')\n",
    "geohelminths_bars = ax.bar(geohelminths.keys(), geohelminths.values(), bar_width, alpha=opacity, color='g', label='Geohelminths')\n",
    "\n",
    "\n",
    "ax.set_xlabel('Parasite')\n",
    "ax.set_ylabel('Number of cases')\n",
    "ax.set_title('Parasite Cases by Type')\n",
    "ax.set_xticks(list(protozoan.keys()) + list(geohelminths.keys()))\n",
    "ax.legend()"
   ]
  }
 ],
 "metadata": {
  "kernelspec": {
   "display_name": "Python 3",
   "language": "python",
   "name": "python3"
  },
  "language_info": {
   "codemirror_mode": {
    "name": "ipython",
    "version": 3
   },
   "file_extension": ".py",
   "mimetype": "text/x-python",
   "name": "python",
   "nbconvert_exporter": "python",
   "pygments_lexer": "ipython3",
   "version": "3.11.2"
  },
  "orig_nbformat": 4,
  "vscode": {
   "interpreter": {
    "hash": "e7370f93d1d0cde622a1f8e1c04877d8463912d04d973331ad4851f04de6915a"
   }
  }
 },
 "nbformat": 4,
 "nbformat_minor": 2
}
